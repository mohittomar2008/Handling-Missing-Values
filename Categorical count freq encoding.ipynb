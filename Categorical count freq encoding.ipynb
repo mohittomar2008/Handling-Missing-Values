{
 "cells": [
  {
   "cell_type": "markdown",
   "id": "64fc57fe",
   "metadata": {},
   "source": [
    "# Handle Categorical Features (count/frequency encoding)"
   ]
  },
  {
   "cell_type": "code",
   "execution_count": 1,
   "id": "5394787f",
   "metadata": {},
   "outputs": [],
   "source": [
    "# Take Mercedebenz data to handle means categorical data into numerical data(meaningful data)"
   ]
  },
  {
   "cell_type": "code",
   "execution_count": 2,
   "id": "d9f15699",
   "metadata": {},
   "outputs": [],
   "source": [
    "# high Cardinality means high no. of categories"
   ]
  },
  {
   "cell_type": "code",
   "execution_count": 3,
   "id": "80accc13",
   "metadata": {},
   "outputs": [],
   "source": [
    "# In a column, features will be replaced by their frequency"
   ]
  },
  {
   "cell_type": "code",
   "execution_count": 6,
   "id": "ab683e79",
   "metadata": {},
   "outputs": [],
   "source": [
    "import pandas as pd\n",
    "import numpy as np"
   ]
  },
  {
   "cell_type": "code",
   "execution_count": 8,
   "id": "9ef665e8",
   "metadata": {},
   "outputs": [],
   "source": [
    "pd.set_option('display.max_columns', None)"
   ]
  },
  {
   "cell_type": "code",
   "execution_count": 25,
   "id": "bbd39fa2",
   "metadata": {},
   "outputs": [
    {
     "data": {
      "text/plain": [
       "(4209, 3)"
      ]
     },
     "execution_count": 25,
     "metadata": {},
     "output_type": "execute_result"
    }
   ],
   "source": [
    "df= pd.read_csv('mercedesbenz.csv', usecols=['X1','X2','X3'])\n",
    "df.shape"
   ]
  },
  {
   "cell_type": "code",
   "execution_count": 26,
   "id": "d7ac0f67",
   "metadata": {},
   "outputs": [
    {
     "data": {
      "text/plain": [
       "(4209, 78)"
      ]
     },
     "execution_count": 26,
     "metadata": {},
     "output_type": "execute_result"
    }
   ],
   "source": [
    "pd.get_dummies(df).shape\n",
    "## basically One Hot Enconding increases the column by much more columns"
   ]
  },
  {
   "cell_type": "code",
   "execution_count": 27,
   "id": "aa494cf2",
   "metadata": {},
   "outputs": [
    {
     "name": "stdout",
     "output_type": "stream",
     "text": [
      "X1 - 27  labels\n",
      "X2 - 44  labels\n",
      "X3 - 7  labels\n"
     ]
    }
   ],
   "source": [
    "# Find Unique values within column\n",
    "len(df.X1.unique())\n",
    "\n",
    "for i in df.columns:\n",
    "    print(i,\"-\", len(df[i].unique()),\" labels\")"
   ]
  },
  {
   "cell_type": "code",
   "execution_count": 32,
   "id": "122b2ae2",
   "metadata": {},
   "outputs": [],
   "source": [
    "# Lets obtain the counts for each one of the labels in column X1\"\n",
    "\n",
    "frequency=df.X1.value_counts().to_dict()\n",
    "# Lets replace each label in X1 by its counts/frequency"
   ]
  },
  {
   "cell_type": "code",
   "execution_count": 44,
   "id": "c6365a8d",
   "metadata": {},
   "outputs": [],
   "source": [
    "df.X1= df.X1.map(frequency)"
   ]
  },
  {
   "cell_type": "code",
   "execution_count": 45,
   "id": "9521e9a0",
   "metadata": {},
   "outputs": [
    {
     "data": {
      "text/html": [
       "<div>\n",
       "<style scoped>\n",
       "    .dataframe tbody tr th:only-of-type {\n",
       "        vertical-align: middle;\n",
       "    }\n",
       "\n",
       "    .dataframe tbody tr th {\n",
       "        vertical-align: top;\n",
       "    }\n",
       "\n",
       "    .dataframe thead th {\n",
       "        text-align: right;\n",
       "    }\n",
       "</style>\n",
       "<table border=\"1\" class=\"dataframe\">\n",
       "  <thead>\n",
       "    <tr style=\"text-align: right;\">\n",
       "      <th></th>\n",
       "      <th>X1</th>\n",
       "      <th>X2</th>\n",
       "      <th>X3</th>\n",
       "    </tr>\n",
       "  </thead>\n",
       "  <tbody>\n",
       "    <tr>\n",
       "      <th>0</th>\n",
       "      <td>408</td>\n",
       "      <td>at</td>\n",
       "      <td>a</td>\n",
       "    </tr>\n",
       "    <tr>\n",
       "      <th>1</th>\n",
       "      <td>31</td>\n",
       "      <td>av</td>\n",
       "      <td>e</td>\n",
       "    </tr>\n",
       "    <tr>\n",
       "      <th>2</th>\n",
       "      <td>52</td>\n",
       "      <td>n</td>\n",
       "      <td>c</td>\n",
       "    </tr>\n",
       "    <tr>\n",
       "      <th>3</th>\n",
       "      <td>31</td>\n",
       "      <td>n</td>\n",
       "      <td>f</td>\n",
       "    </tr>\n",
       "    <tr>\n",
       "      <th>4</th>\n",
       "      <td>408</td>\n",
       "      <td>n</td>\n",
       "      <td>f</td>\n",
       "    </tr>\n",
       "    <tr>\n",
       "      <th>...</th>\n",
       "      <td>...</td>\n",
       "      <td>...</td>\n",
       "      <td>...</td>\n",
       "    </tr>\n",
       "    <tr>\n",
       "      <th>4204</th>\n",
       "      <td>598</td>\n",
       "      <td>as</td>\n",
       "      <td>c</td>\n",
       "    </tr>\n",
       "    <tr>\n",
       "      <th>4205</th>\n",
       "      <td>82</td>\n",
       "      <td>t</td>\n",
       "      <td>d</td>\n",
       "    </tr>\n",
       "    <tr>\n",
       "      <th>4206</th>\n",
       "      <td>408</td>\n",
       "      <td>r</td>\n",
       "      <td>a</td>\n",
       "    </tr>\n",
       "    <tr>\n",
       "      <th>4207</th>\n",
       "      <td>251</td>\n",
       "      <td>e</td>\n",
       "      <td>f</td>\n",
       "    </tr>\n",
       "    <tr>\n",
       "      <th>4208</th>\n",
       "      <td>251</td>\n",
       "      <td>ae</td>\n",
       "      <td>c</td>\n",
       "    </tr>\n",
       "  </tbody>\n",
       "</table>\n",
       "<p>4209 rows × 3 columns</p>\n",
       "</div>"
      ],
      "text/plain": [
       "       X1  X2 X3\n",
       "0     408  at  a\n",
       "1      31  av  e\n",
       "2      52   n  c\n",
       "3      31   n  f\n",
       "4     408   n  f\n",
       "...   ...  .. ..\n",
       "4204  598  as  c\n",
       "4205   82   t  d\n",
       "4206  408   r  a\n",
       "4207  251   e  f\n",
       "4208  251  ae  c\n",
       "\n",
       "[4209 rows x 3 columns]"
      ]
     },
     "execution_count": 45,
     "metadata": {},
     "output_type": "execute_result"
    }
   ],
   "source": [
    "df"
   ]
  },
  {
   "cell_type": "code",
   "execution_count": 46,
   "id": "f15f60fb",
   "metadata": {},
   "outputs": [],
   "source": [
    "# do same with other columns"
   ]
  },
  {
   "cell_type": "code",
   "execution_count": 49,
   "id": "8afc1861",
   "metadata": {},
   "outputs": [],
   "source": [
    "# find count and replace in X2\n",
    "frequency=df.X2.value_counts().to_dict()\n",
    "\n",
    "df.X2=df.X2.map(frequency)"
   ]
  },
  {
   "cell_type": "code",
   "execution_count": 51,
   "id": "e2b8e9a1",
   "metadata": {},
   "outputs": [],
   "source": [
    "# find count in X3\n",
    "frequency= df.X3.value_counts().to_dict()\n",
    "df.X3= df.X3.map(frequency)"
   ]
  },
  {
   "cell_type": "code",
   "execution_count": 53,
   "id": "857650ae",
   "metadata": {},
   "outputs": [
    {
     "data": {
      "text/html": [
       "<div>\n",
       "<style scoped>\n",
       "    .dataframe tbody tr th:only-of-type {\n",
       "        vertical-align: middle;\n",
       "    }\n",
       "\n",
       "    .dataframe tbody tr th {\n",
       "        vertical-align: top;\n",
       "    }\n",
       "\n",
       "    .dataframe thead th {\n",
       "        text-align: right;\n",
       "    }\n",
       "</style>\n",
       "<table border=\"1\" class=\"dataframe\">\n",
       "  <thead>\n",
       "    <tr style=\"text-align: right;\">\n",
       "      <th></th>\n",
       "      <th>X1</th>\n",
       "      <th>X2</th>\n",
       "      <th>X3</th>\n",
       "    </tr>\n",
       "  </thead>\n",
       "  <tbody>\n",
       "    <tr>\n",
       "      <th>0</th>\n",
       "      <td>False</td>\n",
       "      <td>False</td>\n",
       "      <td>False</td>\n",
       "    </tr>\n",
       "    <tr>\n",
       "      <th>1</th>\n",
       "      <td>False</td>\n",
       "      <td>False</td>\n",
       "      <td>False</td>\n",
       "    </tr>\n",
       "    <tr>\n",
       "      <th>2</th>\n",
       "      <td>False</td>\n",
       "      <td>False</td>\n",
       "      <td>False</td>\n",
       "    </tr>\n",
       "    <tr>\n",
       "      <th>3</th>\n",
       "      <td>False</td>\n",
       "      <td>False</td>\n",
       "      <td>False</td>\n",
       "    </tr>\n",
       "    <tr>\n",
       "      <th>4</th>\n",
       "      <td>False</td>\n",
       "      <td>False</td>\n",
       "      <td>False</td>\n",
       "    </tr>\n",
       "    <tr>\n",
       "      <th>...</th>\n",
       "      <td>...</td>\n",
       "      <td>...</td>\n",
       "      <td>...</td>\n",
       "    </tr>\n",
       "    <tr>\n",
       "      <th>4204</th>\n",
       "      <td>False</td>\n",
       "      <td>False</td>\n",
       "      <td>False</td>\n",
       "    </tr>\n",
       "    <tr>\n",
       "      <th>4205</th>\n",
       "      <td>False</td>\n",
       "      <td>False</td>\n",
       "      <td>False</td>\n",
       "    </tr>\n",
       "    <tr>\n",
       "      <th>4206</th>\n",
       "      <td>False</td>\n",
       "      <td>False</td>\n",
       "      <td>False</td>\n",
       "    </tr>\n",
       "    <tr>\n",
       "      <th>4207</th>\n",
       "      <td>False</td>\n",
       "      <td>False</td>\n",
       "      <td>False</td>\n",
       "    </tr>\n",
       "    <tr>\n",
       "      <th>4208</th>\n",
       "      <td>False</td>\n",
       "      <td>False</td>\n",
       "      <td>False</td>\n",
       "    </tr>\n",
       "  </tbody>\n",
       "</table>\n",
       "<p>4209 rows × 3 columns</p>\n",
       "</div>"
      ],
      "text/plain": [
       "         X1     X2     X3\n",
       "0     False  False  False\n",
       "1     False  False  False\n",
       "2     False  False  False\n",
       "3     False  False  False\n",
       "4     False  False  False\n",
       "...     ...    ...    ...\n",
       "4204  False  False  False\n",
       "4205  False  False  False\n",
       "4206  False  False  False\n",
       "4207  False  False  False\n",
       "4208  False  False  False\n",
       "\n",
       "[4209 rows x 3 columns]"
      ]
     },
     "execution_count": 53,
     "metadata": {},
     "output_type": "execute_result"
    }
   ],
   "source": [
    "df.isnull()"
   ]
  },
  {
   "cell_type": "code",
   "execution_count": null,
   "id": "bffb6f51",
   "metadata": {},
   "outputs": [],
   "source": []
  }
 ],
 "metadata": {
  "kernelspec": {
   "display_name": "Python 3",
   "language": "python",
   "name": "python3"
  },
  "language_info": {
   "codemirror_mode": {
    "name": "ipython",
    "version": 3
   },
   "file_extension": ".py",
   "mimetype": "text/x-python",
   "name": "python",
   "nbconvert_exporter": "python",
   "pygments_lexer": "ipython3",
   "version": "3.8.8"
  }
 },
 "nbformat": 4,
 "nbformat_minor": 5
}
