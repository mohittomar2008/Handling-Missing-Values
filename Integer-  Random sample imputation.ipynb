{
 "cells": [
  {
   "cell_type": "markdown",
   "id": "928fc160",
   "metadata": {},
   "source": [
    "# Integer - Random Sample Imputation"
   ]
  },
  {
   "cell_type": "code",
   "execution_count": null,
   "id": "e0d08054",
   "metadata": {},
   "outputs": [],
   "source": [
    "# It takes the random observation from the datset and we fill NaN value with it\n",
    "# Data should be MCAR"
   ]
  },
  {
   "cell_type": "code",
   "execution_count": null,
   "id": "d6e6ad38",
   "metadata": {},
   "outputs": [],
   "source": [
    "import pandas as pd\n",
    "import numpy as np"
   ]
  },
  {
   "cell_type": "code",
   "execution_count": null,
   "id": "e5af1069",
   "metadata": {},
   "outputs": [],
   "source": [
    "# Show all columns\n",
    "\n",
    "pd.set_option('display.max_columns',None)"
   ]
  },
  {
   "cell_type": "code",
   "execution_count": null,
   "id": "972663fd",
   "metadata": {},
   "outputs": [],
   "source": [
    "#lets take 3 columns from dataset to understand\n",
    "\n",
    "\n",
    "df=pd.read_csv('titanic.csv', usecols=[\"Age\",'Fare','Survived'])\n",
    "df.head(50)"
   ]
  },
  {
   "cell_type": "code",
   "execution_count": null,
   "id": "c2a6e47c",
   "metadata": {},
   "outputs": [],
   "source": [
    "# check Null values\n",
    "df.isnull().mean()"
   ]
  },
  {
   "cell_type": "code",
   "execution_count": null,
   "id": "0dd6e86f",
   "metadata": {},
   "outputs": [],
   "source": [
    "df.isnull().sum()"
   ]
  },
  {
   "cell_type": "code",
   "execution_count": null,
   "id": "5d8f2040",
   "metadata": {},
   "outputs": [],
   "source": [
    "# take random sample of the size of null values in the Age variable 177\n",
    "\n",
    "random_sample=df['Age'].dropna().sample(df['Age'].isnull().sum(),random_state=0)"
   ]
  },
  {
   "cell_type": "code",
   "execution_count": null,
   "id": "8ecac434",
   "metadata": {},
   "outputs": [],
   "source": [
    "# need random sample at the same index of missing data, copy missing data index to random sample data\n",
    "random_sample.index= df[df['Age'].isnull()].index"
   ]
  },
  {
   "cell_type": "code",
   "execution_count": null,
   "id": "a98802ac",
   "metadata": {},
   "outputs": [],
   "source": [
    "random_sample"
   ]
  },
  {
   "cell_type": "code",
   "execution_count": null,
   "id": "eda8c4d2",
   "metadata": {},
   "outputs": [],
   "source": [
    "# copy age into new column, where we will replace missing NaN value\n",
    "df['Age_imputed']= df['Age']"
   ]
  },
  {
   "cell_type": "code",
   "execution_count": null,
   "id": "e1bc4899",
   "metadata": {},
   "outputs": [],
   "source": [
    "df.loc[random_sample.index,'Age_imputed']=random_sample"
   ]
  },
  {
   "cell_type": "code",
   "execution_count": null,
   "id": "7e99a09d",
   "metadata": {},
   "outputs": [],
   "source": []
  },
  {
   "cell_type": "code",
   "execution_count": null,
   "id": "09074eda",
   "metadata": {},
   "outputs": [],
   "source": [
    "#  Now lets change Age column missing value by Median\n",
    "\n",
    "df['Age'].fillna(df['Age'].median(), inplace=True)"
   ]
  },
  {
   "cell_type": "code",
   "execution_count": null,
   "id": "b7d0dcbe",
   "metadata": {},
   "outputs": [],
   "source": [
    "df.head(50)"
   ]
  },
  {
   "cell_type": "code",
   "execution_count": 191,
   "id": "eff9e8b4",
   "metadata": {},
   "outputs": [
    {
     "data": {
      "text/plain": [
       "<AxesSubplot:ylabel='Density'>"
      ]
     },
     "execution_count": 191,
     "metadata": {},
     "output_type": "execute_result"
    },
    {
     "data": {
      "image/png": "[encoded data removed]",
      "text/plain": [
       "<Figure size 432x288 with 1 Axes>"
      ]
     },
     "metadata": {
      "needs_background": "light"
     },
     "output_type": "display_data"
    }
   ],
   "source": [
    "# Compare median vs random sample imputation\n",
    "\n",
    "df.Age.plot(kind='kde')\n",
    "df.Age_imputed.plot(kind=\"kde\")"
   ]
  },
  {
   "cell_type": "code",
   "execution_count": null,
   "id": "f43a0089",
   "metadata": {},
   "outputs": [],
   "source": []
  }
 ],
 "metadata": {
  "kernelspec": {
   "display_name": "Python 3",
   "language": "python",
   "name": "python3"
  },
  "language_info": {
   "codemirror_mode": {
    "name": "ipython",
    "version": 3
   },
   "file_extension": ".py",
   "mimetype": "text/x-python",
   "name": "python",
   "nbconvert_exporter": "python",
   "pygments_lexer": "ipython3",
   "version": "3.8.8"
  }
 },
 "nbformat": 4,
 "nbformat_minor": 5
}
