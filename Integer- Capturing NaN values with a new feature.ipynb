{
 "cells": [
  {
   "cell_type": "code",
   "execution_count": 1,
   "id": "f2958854",
   "metadata": {},
   "outputs": [],
   "source": [
    "# Handle integer missing values through capture NaN values with a new feature"
   ]
  },
  {
   "cell_type": "code",
   "execution_count": 2,
   "id": "d734bb6b",
   "metadata": {},
   "outputs": [],
   "source": [
    "# It wirks well when data are not missing at random   (MNAR)\n",
    "# MNAR where missing data have a relationship with other values observed within dataset"
   ]
  },
  {
   "cell_type": "code",
   "execution_count": 11,
   "id": "df07152f",
   "metadata": {},
   "outputs": [],
   "source": [
    "import pandas as pd\n",
    "import numpy as np"
   ]
  },
  {
   "cell_type": "code",
   "execution_count": 6,
   "id": "726c2a15",
   "metadata": {},
   "outputs": [],
   "source": [
    "df=pd.read_csv('titanic.csv', usecols=['Age','Fare','Survived'])\n"
   ]
  },
  {
   "cell_type": "code",
   "execution_count": 8,
   "id": "d2b1f47d",
   "metadata": {},
   "outputs": [
    {
     "data": {
      "text/plain": [
       "Survived      0\n",
       "Age         177\n",
       "Fare          0\n",
       "dtype: int64"
      ]
     },
     "execution_count": 8,
     "metadata": {},
     "output_type": "execute_result"
    }
   ],
   "source": [
    "df.isnull().sum()"
   ]
  },
  {
   "cell_type": "code",
   "execution_count": 12,
   "id": "cae69c6d",
   "metadata": {},
   "outputs": [],
   "source": [
    "# create new column to capture AGE nan values\n",
    "df[\"age_nan\"]= np.where(df.Age.isnull(),1,0)"
   ]
  },
  {
   "cell_type": "code",
   "execution_count": 19,
   "id": "a9015bf5",
   "metadata": {},
   "outputs": [],
   "source": [
    "#  fill Nan values with median in Age column\n",
    "df['Age'].fillna(df.Age.median(), inplace=True)"
   ]
  },
  {
   "cell_type": "code",
   "execution_count": 21,
   "id": "92d892b5",
   "metadata": {},
   "outputs": [
    {
     "data": {
      "text/plain": [
       "Survived    0\n",
       "Age         0\n",
       "Fare        0\n",
       "age_nan     0\n",
       "dtype: int64"
      ]
     },
     "execution_count": 21,
     "metadata": {},
     "output_type": "execute_result"
    }
   ],
   "source": [
    "df.isnull().sum()"
   ]
  },
  {
   "cell_type": "code",
   "execution_count": null,
   "id": "3781ee2f",
   "metadata": {},
   "outputs": [],
   "source": []
  }
 ],
 "metadata": {
  "kernelspec": {
   "display_name": "Python 3",
   "language": "python",
   "name": "python3"
  },
  "language_info": {
   "codemirror_mode": {
    "name": "ipython",
    "version": 3
   },
   "file_extension": ".py",
   "mimetype": "text/x-python",
   "name": "python",
   "nbconvert_exporter": "python",
   "pygments_lexer": "ipython3",
   "version": "3.8.8"
  }
 },
 "nbformat": 4,
 "nbformat_minor": 5
}
